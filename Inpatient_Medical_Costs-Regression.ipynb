{
 "cells": [
  {
   "cell_type": "markdown",
   "id": "eb357026",
   "metadata": {},
   "source": [
    "### Our aim to create regression models to predict the Medical Expenses of insurance companies. The medical expense is dependent on various factors like number of children, age, smoker, bmi, region of stay. This dataset represents the 4 corners of the United States."
   ]
  },
  {
   "cell_type": "code",
   "execution_count": 102,
   "id": "66ffc3f5",
   "metadata": {},
   "outputs": [],
   "source": [
    "import numpy as np\n",
    "import matplotlib.pyplot as plt\n",
    "import pandas as pd\n",
    "import seaborn as sns\n",
    "from sklearn.model_selection import train_test_split"
   ]
  },
  {
   "cell_type": "code",
   "execution_count": 103,
   "id": "d0f57bef",
   "metadata": {},
   "outputs": [
    {
     "data": {
      "text/html": [
       "<div>\n",
       "<style scoped>\n",
       "    .dataframe tbody tr th:only-of-type {\n",
       "        vertical-align: middle;\n",
       "    }\n",
       "\n",
       "    .dataframe tbody tr th {\n",
       "        vertical-align: top;\n",
       "    }\n",
       "\n",
       "    .dataframe thead th {\n",
       "        text-align: right;\n",
       "    }\n",
       "</style>\n",
       "<table border=\"1\" class=\"dataframe\">\n",
       "  <thead>\n",
       "    <tr style=\"text-align: right;\">\n",
       "      <th></th>\n",
       "      <th>age</th>\n",
       "      <th>sex</th>\n",
       "      <th>bmi</th>\n",
       "      <th>children</th>\n",
       "      <th>smoker</th>\n",
       "      <th>region</th>\n",
       "      <th>charges</th>\n",
       "    </tr>\n",
       "  </thead>\n",
       "  <tbody>\n",
       "    <tr>\n",
       "      <th>0</th>\n",
       "      <td>19</td>\n",
       "      <td>female</td>\n",
       "      <td>27.900</td>\n",
       "      <td>0</td>\n",
       "      <td>yes</td>\n",
       "      <td>southwest</td>\n",
       "      <td>16884.92400</td>\n",
       "    </tr>\n",
       "    <tr>\n",
       "      <th>1</th>\n",
       "      <td>18</td>\n",
       "      <td>male</td>\n",
       "      <td>33.770</td>\n",
       "      <td>1</td>\n",
       "      <td>no</td>\n",
       "      <td>southeast</td>\n",
       "      <td>1725.55230</td>\n",
       "    </tr>\n",
       "    <tr>\n",
       "      <th>2</th>\n",
       "      <td>28</td>\n",
       "      <td>male</td>\n",
       "      <td>33.000</td>\n",
       "      <td>3</td>\n",
       "      <td>no</td>\n",
       "      <td>southeast</td>\n",
       "      <td>4449.46200</td>\n",
       "    </tr>\n",
       "    <tr>\n",
       "      <th>3</th>\n",
       "      <td>33</td>\n",
       "      <td>male</td>\n",
       "      <td>22.705</td>\n",
       "      <td>0</td>\n",
       "      <td>no</td>\n",
       "      <td>northwest</td>\n",
       "      <td>21984.47061</td>\n",
       "    </tr>\n",
       "    <tr>\n",
       "      <th>4</th>\n",
       "      <td>32</td>\n",
       "      <td>male</td>\n",
       "      <td>28.880</td>\n",
       "      <td>0</td>\n",
       "      <td>no</td>\n",
       "      <td>northwest</td>\n",
       "      <td>3866.85520</td>\n",
       "    </tr>\n",
       "  </tbody>\n",
       "</table>\n",
       "</div>"
      ],
      "text/plain": [
       "   age     sex     bmi  children smoker     region      charges\n",
       "0   19  female  27.900         0    yes  southwest  16884.92400\n",
       "1   18    male  33.770         1     no  southeast   1725.55230\n",
       "2   28    male  33.000         3     no  southeast   4449.46200\n",
       "3   33    male  22.705         0     no  northwest  21984.47061\n",
       "4   32    male  28.880         0     no  northwest   3866.85520"
      ]
     },
     "execution_count": 103,
     "metadata": {},
     "output_type": "execute_result"
    }
   ],
   "source": [
    "df = pd.read_csv(r\"D:\\archive (40).zip\")\n",
    "df.head()"
   ]
  },
  {
   "cell_type": "code",
   "execution_count": 104,
   "id": "c2df1d55",
   "metadata": {},
   "outputs": [
    {
     "data": {
      "text/html": [
       "<div>\n",
       "<style scoped>\n",
       "    .dataframe tbody tr th:only-of-type {\n",
       "        vertical-align: middle;\n",
       "    }\n",
       "\n",
       "    .dataframe tbody tr th {\n",
       "        vertical-align: top;\n",
       "    }\n",
       "\n",
       "    .dataframe thead th {\n",
       "        text-align: right;\n",
       "    }\n",
       "</style>\n",
       "<table border=\"1\" class=\"dataframe\">\n",
       "  <thead>\n",
       "    <tr style=\"text-align: right;\">\n",
       "      <th></th>\n",
       "      <th>age</th>\n",
       "      <th>sex</th>\n",
       "      <th>bmi</th>\n",
       "      <th>children</th>\n",
       "      <th>smoker</th>\n",
       "      <th>region</th>\n",
       "      <th>charges</th>\n",
       "    </tr>\n",
       "  </thead>\n",
       "  <tbody>\n",
       "    <tr>\n",
       "      <th>1333</th>\n",
       "      <td>50</td>\n",
       "      <td>male</td>\n",
       "      <td>30.97</td>\n",
       "      <td>3</td>\n",
       "      <td>no</td>\n",
       "      <td>northwest</td>\n",
       "      <td>10600.5483</td>\n",
       "    </tr>\n",
       "    <tr>\n",
       "      <th>1334</th>\n",
       "      <td>18</td>\n",
       "      <td>female</td>\n",
       "      <td>31.92</td>\n",
       "      <td>0</td>\n",
       "      <td>no</td>\n",
       "      <td>northeast</td>\n",
       "      <td>2205.9808</td>\n",
       "    </tr>\n",
       "    <tr>\n",
       "      <th>1335</th>\n",
       "      <td>18</td>\n",
       "      <td>female</td>\n",
       "      <td>36.85</td>\n",
       "      <td>0</td>\n",
       "      <td>no</td>\n",
       "      <td>southeast</td>\n",
       "      <td>1629.8335</td>\n",
       "    </tr>\n",
       "    <tr>\n",
       "      <th>1336</th>\n",
       "      <td>21</td>\n",
       "      <td>female</td>\n",
       "      <td>25.80</td>\n",
       "      <td>0</td>\n",
       "      <td>no</td>\n",
       "      <td>southwest</td>\n",
       "      <td>2007.9450</td>\n",
       "    </tr>\n",
       "    <tr>\n",
       "      <th>1337</th>\n",
       "      <td>61</td>\n",
       "      <td>female</td>\n",
       "      <td>29.07</td>\n",
       "      <td>0</td>\n",
       "      <td>yes</td>\n",
       "      <td>northwest</td>\n",
       "      <td>29141.3603</td>\n",
       "    </tr>\n",
       "  </tbody>\n",
       "</table>\n",
       "</div>"
      ],
      "text/plain": [
       "      age     sex    bmi  children smoker     region     charges\n",
       "1333   50    male  30.97         3     no  northwest  10600.5483\n",
       "1334   18  female  31.92         0     no  northeast   2205.9808\n",
       "1335   18  female  36.85         0     no  southeast   1629.8335\n",
       "1336   21  female  25.80         0     no  southwest   2007.9450\n",
       "1337   61  female  29.07         0    yes  northwest  29141.3603"
      ]
     },
     "execution_count": 104,
     "metadata": {},
     "output_type": "execute_result"
    }
   ],
   "source": [
    "df.tail()"
   ]
  },
  {
   "cell_type": "code",
   "execution_count": 105,
   "id": "9cc8c901",
   "metadata": {},
   "outputs": [
    {
     "data": {
      "text/plain": [
       "(1338, 7)"
      ]
     },
     "execution_count": 105,
     "metadata": {},
     "output_type": "execute_result"
    }
   ],
   "source": [
    "df.shape"
   ]
  },
  {
   "cell_type": "code",
   "execution_count": 106,
   "id": "8323da9c",
   "metadata": {},
   "outputs": [
    {
     "data": {
      "text/plain": [
       "age           int64\n",
       "sex          object\n",
       "bmi         float64\n",
       "children      int64\n",
       "smoker       object\n",
       "region       object\n",
       "charges     float64\n",
       "dtype: object"
      ]
     },
     "execution_count": 106,
     "metadata": {},
     "output_type": "execute_result"
    }
   ],
   "source": [
    "df.dtypes"
   ]
  },
  {
   "cell_type": "code",
   "execution_count": 107,
   "id": "9a4d67b0",
   "metadata": {},
   "outputs": [
    {
     "name": "stdout",
     "output_type": "stream",
     "text": [
      "<class 'pandas.core.frame.DataFrame'>\n",
      "RangeIndex: 1338 entries, 0 to 1337\n",
      "Data columns (total 7 columns):\n",
      " #   Column    Non-Null Count  Dtype  \n",
      "---  ------    --------------  -----  \n",
      " 0   age       1338 non-null   int64  \n",
      " 1   sex       1338 non-null   object \n",
      " 2   bmi       1338 non-null   float64\n",
      " 3   children  1338 non-null   int64  \n",
      " 4   smoker    1338 non-null   object \n",
      " 5   region    1338 non-null   object \n",
      " 6   charges   1338 non-null   float64\n",
      "dtypes: float64(2), int64(2), object(3)\n",
      "memory usage: 73.3+ KB\n"
     ]
    }
   ],
   "source": [
    "df.info()"
   ]
  },
  {
   "cell_type": "code",
   "execution_count": 108,
   "id": "e3dd6061",
   "metadata": {},
   "outputs": [
    {
     "data": {
      "text/html": [
       "<div>\n",
       "<style scoped>\n",
       "    .dataframe tbody tr th:only-of-type {\n",
       "        vertical-align: middle;\n",
       "    }\n",
       "\n",
       "    .dataframe tbody tr th {\n",
       "        vertical-align: top;\n",
       "    }\n",
       "\n",
       "    .dataframe thead th {\n",
       "        text-align: right;\n",
       "    }\n",
       "</style>\n",
       "<table border=\"1\" class=\"dataframe\">\n",
       "  <thead>\n",
       "    <tr style=\"text-align: right;\">\n",
       "      <th></th>\n",
       "      <th>age</th>\n",
       "      <th>bmi</th>\n",
       "      <th>children</th>\n",
       "      <th>charges</th>\n",
       "    </tr>\n",
       "  </thead>\n",
       "  <tbody>\n",
       "    <tr>\n",
       "      <th>count</th>\n",
       "      <td>1338.000000</td>\n",
       "      <td>1338.000000</td>\n",
       "      <td>1338.000000</td>\n",
       "      <td>1338.000000</td>\n",
       "    </tr>\n",
       "    <tr>\n",
       "      <th>mean</th>\n",
       "      <td>39.207025</td>\n",
       "      <td>30.663397</td>\n",
       "      <td>1.094918</td>\n",
       "      <td>13270.422265</td>\n",
       "    </tr>\n",
       "    <tr>\n",
       "      <th>std</th>\n",
       "      <td>14.049960</td>\n",
       "      <td>6.098187</td>\n",
       "      <td>1.205493</td>\n",
       "      <td>12110.011237</td>\n",
       "    </tr>\n",
       "    <tr>\n",
       "      <th>min</th>\n",
       "      <td>18.000000</td>\n",
       "      <td>15.960000</td>\n",
       "      <td>0.000000</td>\n",
       "      <td>1121.873900</td>\n",
       "    </tr>\n",
       "    <tr>\n",
       "      <th>25%</th>\n",
       "      <td>27.000000</td>\n",
       "      <td>26.296250</td>\n",
       "      <td>0.000000</td>\n",
       "      <td>4740.287150</td>\n",
       "    </tr>\n",
       "    <tr>\n",
       "      <th>50%</th>\n",
       "      <td>39.000000</td>\n",
       "      <td>30.400000</td>\n",
       "      <td>1.000000</td>\n",
       "      <td>9382.033000</td>\n",
       "    </tr>\n",
       "    <tr>\n",
       "      <th>75%</th>\n",
       "      <td>51.000000</td>\n",
       "      <td>34.693750</td>\n",
       "      <td>2.000000</td>\n",
       "      <td>16639.912515</td>\n",
       "    </tr>\n",
       "    <tr>\n",
       "      <th>max</th>\n",
       "      <td>64.000000</td>\n",
       "      <td>53.130000</td>\n",
       "      <td>5.000000</td>\n",
       "      <td>63770.428010</td>\n",
       "    </tr>\n",
       "  </tbody>\n",
       "</table>\n",
       "</div>"
      ],
      "text/plain": [
       "               age          bmi     children       charges\n",
       "count  1338.000000  1338.000000  1338.000000   1338.000000\n",
       "mean     39.207025    30.663397     1.094918  13270.422265\n",
       "std      14.049960     6.098187     1.205493  12110.011237\n",
       "min      18.000000    15.960000     0.000000   1121.873900\n",
       "25%      27.000000    26.296250     0.000000   4740.287150\n",
       "50%      39.000000    30.400000     1.000000   9382.033000\n",
       "75%      51.000000    34.693750     2.000000  16639.912515\n",
       "max      64.000000    53.130000     5.000000  63770.428010"
      ]
     },
     "execution_count": 108,
     "metadata": {},
     "output_type": "execute_result"
    }
   ],
   "source": [
    "df.describe()"
   ]
  },
  {
   "cell_type": "code",
   "execution_count": 109,
   "id": "612f78a9",
   "metadata": {},
   "outputs": [
    {
     "data": {
      "image/png": "[encoded data removed]",
      "text/plain": [
       "<Figure size 432x288 with 1 Axes>"
      ]
     },
     "metadata": {
      "needs_background": "light"
     },
     "output_type": "display_data"
    }
   ],
   "source": [
    "# Creating the boxplot for the \"Age\" column,in order to check for distribution and outliers\n",
    "column = \"age\"\n",
    "plt.boxplot(df[column])\n",
    "plt.title(\"Boxplot of Age\")\n",
    "plt.xlabel(column)\n",
    "plt.ylabel(\"Values\")\n",
    "\n",
    "plt.show()"
   ]
  },
  {
   "cell_type": "markdown",
   "id": "375c714c",
   "metadata": {},
   "source": [
    "### No outliers are seen on the boxplot and the median is in the senter of the distance between Q1 and Q3. "
   ]
  },
  {
   "cell_type": "code",
   "execution_count": 110,
   "id": "ee54032a",
   "metadata": {},
   "outputs": [
    {
     "data": {
      "image/png": "[encoded data removed]",
      "text/plain": [
       "<Figure size 432x288 with 2 Axes>"
      ]
     },
     "metadata": {
      "needs_background": "light"
     },
     "output_type": "display_data"
    }
   ],
   "source": [
    "# plotting correlation heatmap\n",
    "dataplot = sns.heatmap(df.corr(), cmap=\"YlGnBu\", annot=True)"
   ]
  },
  {
   "cell_type": "code",
   "execution_count": 112,
   "id": "b5c49d79",
   "metadata": {},
   "outputs": [
    {
     "name": "stdout",
     "output_type": "stream",
     "text": [
      "region\n",
      "northeast    13406.384516\n",
      "northwest    12417.575374\n",
      "southeast    14735.411438\n",
      "southwest    12346.937377\n",
      "Name: charges, dtype: float64\n"
     ]
    }
   ],
   "source": [
    "average_cost_by_region = df.groupby('region')['charges'].mean()\n",
    "print(average_cost_by_region)"
   ]
  },
  {
   "cell_type": "markdown",
   "id": "98b0ae4e",
   "metadata": {},
   "source": [
    "### We don't see any real coorelations between the features, positive or negative."
   ]
  },
  {
   "cell_type": "code",
   "execution_count": 42,
   "id": "58788613",
   "metadata": {},
   "outputs": [],
   "source": [
    "# We will rename some of the columns to better understand the meaning of the data.\n",
    "df.rename(columns={'region': 'region of USA', 'charges': 'cost of care'}, inplace=True)"
   ]
  },
  {
   "cell_type": "code",
   "execution_count": 43,
   "id": "87d61502",
   "metadata": {},
   "outputs": [
    {
     "data": {
      "text/plain": [
       "<matplotlib.collections.PathCollection at 0x2601328a610>"
      ]
     },
     "execution_count": 43,
     "metadata": {},
     "output_type": "execute_result"
    },
    {
     "data": {
      "image/png": "[encoded data removed]",
      "text/plain": [
       "<Figure size 432x288 with 1 Axes>"
      ]
     },
     "metadata": {
      "needs_background": "light"
     },
     "output_type": "display_data"
    }
   ],
   "source": [
    "plt.scatter(df['age'], df[\"cost of care\"]) # Blue\n",
    "plt.scatter(df['bmi'], df[\"cost of care\"])# Orange"
   ]
  },
  {
   "cell_type": "markdown",
   "id": "eee4fede",
   "metadata": {},
   "source": [
    "### Not a clear relationship between BMI and Cost of Care in this model. Age does show a positive relationship with Cost of Care."
   ]
  },
  {
   "cell_type": "code",
   "execution_count": 44,
   "id": "faa90ec4",
   "metadata": {},
   "outputs": [
    {
     "data": {
      "text/plain": [
       "<matplotlib.collections.PathCollection at 0x260132c3220>"
      ]
     },
     "execution_count": 44,
     "metadata": {},
     "output_type": "execute_result"
    },
    {
     "data": {
      "image/png": "[encoded data removed]",
      "text/plain": [
       "<Figure size 432x288 with 1 Axes>"
      ]
     },
     "metadata": {
      "needs_background": "light"
     },
     "output_type": "display_data"
    }
   ],
   "source": [
    "plt.scatter(df['age'], df['bmi'])"
   ]
  },
  {
   "cell_type": "markdown",
   "id": "1cb2e37a",
   "metadata": {},
   "source": [
    "### The positive relationship with a value of + 0.11, which was recorded on the heatmap as well as the interpretation of this graph make it clear that there is no clear relationship between Age and BMI in this dataset\n",
    "\n",
    "### There are no null columns so no need to deal with nan values but we will need to encode the categorical columns."
   ]
  },
  {
   "cell_type": "code",
   "execution_count": 46,
   "id": "df7f6267",
   "metadata": {},
   "outputs": [
    {
     "name": "stdout",
     "output_type": "stream",
     "text": [
      "0       1\n",
      "1       0\n",
      "2       0\n",
      "3       0\n",
      "4       0\n",
      "       ..\n",
      "1333    0\n",
      "1334    1\n",
      "1335    1\n",
      "1336    1\n",
      "1337    1\n",
      "Name: sex, Length: 1338, dtype: int64\n"
     ]
    },
    {
     "data": {
      "text/html": [
       "<div>\n",
       "<style scoped>\n",
       "    .dataframe tbody tr th:only-of-type {\n",
       "        vertical-align: middle;\n",
       "    }\n",
       "\n",
       "    .dataframe tbody tr th {\n",
       "        vertical-align: top;\n",
       "    }\n",
       "\n",
       "    .dataframe thead th {\n",
       "        text-align: right;\n",
       "    }\n",
       "</style>\n",
       "<table border=\"1\" class=\"dataframe\">\n",
       "  <thead>\n",
       "    <tr style=\"text-align: right;\">\n",
       "      <th></th>\n",
       "      <th>age</th>\n",
       "      <th>sex</th>\n",
       "      <th>bmi</th>\n",
       "      <th>children</th>\n",
       "      <th>smoker</th>\n",
       "      <th>region of USA</th>\n",
       "      <th>cost of care</th>\n",
       "    </tr>\n",
       "  </thead>\n",
       "  <tbody>\n",
       "    <tr>\n",
       "      <th>0</th>\n",
       "      <td>19</td>\n",
       "      <td>1</td>\n",
       "      <td>27.900</td>\n",
       "      <td>0</td>\n",
       "      <td>yes</td>\n",
       "      <td>southwest</td>\n",
       "      <td>16884.92400</td>\n",
       "    </tr>\n",
       "    <tr>\n",
       "      <th>1</th>\n",
       "      <td>18</td>\n",
       "      <td>0</td>\n",
       "      <td>33.770</td>\n",
       "      <td>1</td>\n",
       "      <td>no</td>\n",
       "      <td>southeast</td>\n",
       "      <td>1725.55230</td>\n",
       "    </tr>\n",
       "    <tr>\n",
       "      <th>2</th>\n",
       "      <td>28</td>\n",
       "      <td>0</td>\n",
       "      <td>33.000</td>\n",
       "      <td>3</td>\n",
       "      <td>no</td>\n",
       "      <td>southeast</td>\n",
       "      <td>4449.46200</td>\n",
       "    </tr>\n",
       "    <tr>\n",
       "      <th>3</th>\n",
       "      <td>33</td>\n",
       "      <td>0</td>\n",
       "      <td>22.705</td>\n",
       "      <td>0</td>\n",
       "      <td>no</td>\n",
       "      <td>northwest</td>\n",
       "      <td>21984.47061</td>\n",
       "    </tr>\n",
       "    <tr>\n",
       "      <th>4</th>\n",
       "      <td>32</td>\n",
       "      <td>0</td>\n",
       "      <td>28.880</td>\n",
       "      <td>0</td>\n",
       "      <td>no</td>\n",
       "      <td>northwest</td>\n",
       "      <td>3866.85520</td>\n",
       "    </tr>\n",
       "  </tbody>\n",
       "</table>\n",
       "</div>"
      ],
      "text/plain": [
       "   age  sex     bmi  children smoker region of USA  cost of care\n",
       "0   19    1  27.900         0    yes     southwest   16884.92400\n",
       "1   18    0  33.770         1     no     southeast    1725.55230\n",
       "2   28    0  33.000         3     no     southeast    4449.46200\n",
       "3   33    0  22.705         0     no     northwest   21984.47061\n",
       "4   32    0  28.880         0     no     northwest    3866.85520"
      ]
     },
     "execution_count": 46,
     "metadata": {},
     "output_type": "execute_result"
    }
   ],
   "source": [
    "# Now we will label encode the sex column and the smoker column.\n",
    "column_to_encode = \"sex\" \n",
    "\n",
    "df[column_to_encode] = df[column_to_encode].map({\"female\": 1, \"male\": 0})\n",
    "\n",
    "print(df[column_to_encode])\n",
    "df.head()"
   ]
  },
  {
   "cell_type": "code",
   "execution_count": 47,
   "id": "ce281492",
   "metadata": {
    "scrolled": true
   },
   "outputs": [
    {
     "name": "stdout",
     "output_type": "stream",
     "text": [
      "0       1\n",
      "1       0\n",
      "2       0\n",
      "3       0\n",
      "4       0\n",
      "       ..\n",
      "1333    0\n",
      "1334    0\n",
      "1335    0\n",
      "1336    0\n",
      "1337    1\n",
      "Name: smoker, Length: 1338, dtype: int64\n"
     ]
    },
    {
     "data": {
      "text/html": [
       "<div>\n",
       "<style scoped>\n",
       "    .dataframe tbody tr th:only-of-type {\n",
       "        vertical-align: middle;\n",
       "    }\n",
       "\n",
       "    .dataframe tbody tr th {\n",
       "        vertical-align: top;\n",
       "    }\n",
       "\n",
       "    .dataframe thead th {\n",
       "        text-align: right;\n",
       "    }\n",
       "</style>\n",
       "<table border=\"1\" class=\"dataframe\">\n",
       "  <thead>\n",
       "    <tr style=\"text-align: right;\">\n",
       "      <th></th>\n",
       "      <th>age</th>\n",
       "      <th>sex</th>\n",
       "      <th>bmi</th>\n",
       "      <th>children</th>\n",
       "      <th>smoker</th>\n",
       "      <th>region of USA</th>\n",
       "      <th>cost of care</th>\n",
       "    </tr>\n",
       "  </thead>\n",
       "  <tbody>\n",
       "    <tr>\n",
       "      <th>0</th>\n",
       "      <td>19</td>\n",
       "      <td>1</td>\n",
       "      <td>27.900</td>\n",
       "      <td>0</td>\n",
       "      <td>1</td>\n",
       "      <td>southwest</td>\n",
       "      <td>16884.92400</td>\n",
       "    </tr>\n",
       "    <tr>\n",
       "      <th>1</th>\n",
       "      <td>18</td>\n",
       "      <td>0</td>\n",
       "      <td>33.770</td>\n",
       "      <td>1</td>\n",
       "      <td>0</td>\n",
       "      <td>southeast</td>\n",
       "      <td>1725.55230</td>\n",
       "    </tr>\n",
       "    <tr>\n",
       "      <th>2</th>\n",
       "      <td>28</td>\n",
       "      <td>0</td>\n",
       "      <td>33.000</td>\n",
       "      <td>3</td>\n",
       "      <td>0</td>\n",
       "      <td>southeast</td>\n",
       "      <td>4449.46200</td>\n",
       "    </tr>\n",
       "    <tr>\n",
       "      <th>3</th>\n",
       "      <td>33</td>\n",
       "      <td>0</td>\n",
       "      <td>22.705</td>\n",
       "      <td>0</td>\n",
       "      <td>0</td>\n",
       "      <td>northwest</td>\n",
       "      <td>21984.47061</td>\n",
       "    </tr>\n",
       "    <tr>\n",
       "      <th>4</th>\n",
       "      <td>32</td>\n",
       "      <td>0</td>\n",
       "      <td>28.880</td>\n",
       "      <td>0</td>\n",
       "      <td>0</td>\n",
       "      <td>northwest</td>\n",
       "      <td>3866.85520</td>\n",
       "    </tr>\n",
       "  </tbody>\n",
       "</table>\n",
       "</div>"
      ],
      "text/plain": [
       "   age  sex     bmi  children  smoker region of USA  cost of care\n",
       "0   19    1  27.900         0       1     southwest   16884.92400\n",
       "1   18    0  33.770         1       0     southeast    1725.55230\n",
       "2   28    0  33.000         3       0     southeast    4449.46200\n",
       "3   33    0  22.705         0       0     northwest   21984.47061\n",
       "4   32    0  28.880         0       0     northwest    3866.85520"
      ]
     },
     "execution_count": 47,
     "metadata": {},
     "output_type": "execute_result"
    }
   ],
   "source": [
    "# Now for the Smoking column\n",
    "column_to_encode = \"smoker\" \n",
    "\n",
    "df[column_to_encode] = df[column_to_encode].map({\"yes\": 1, \"no\": 0})\n",
    "\n",
    "print(df[column_to_encode])\n",
    "df.head()"
   ]
  },
  {
   "cell_type": "code",
   "execution_count": 48,
   "id": "17d78191",
   "metadata": {
    "scrolled": true
   },
   "outputs": [],
   "source": [
    "# Lastly we need to One Hot Encode the Region of USA column.  \n",
    "from sklearn.preprocessing import LabelBinarizer\n",
    "\n",
    "encoder = LabelBinarizer()\n",
    "encoded_data = encoder.fit_transform(df['region of USA'])\n",
    "r\n",
    "categories = encoder.classes_\n",
    "\n",
    "df_encoded = pd.DataFrame(data=encoded_data, columns=categories)"
   ]
  },
  {
   "cell_type": "code",
   "execution_count": 49,
   "id": "80c1b206",
   "metadata": {
    "scrolled": true
   },
   "outputs": [
    {
     "name": "stdout",
     "output_type": "stream",
     "text": [
      "      age  sex     bmi  children  smoker  cost of care  northeast  northwest  \\\n",
      "0      19    1  27.900         0       1   16884.92400          0          0   \n",
      "1      18    0  33.770         1       0    1725.55230          0          0   \n",
      "2      28    0  33.000         3       0    4449.46200          0          0   \n",
      "3      33    0  22.705         0       0   21984.47061          0          1   \n",
      "4      32    0  28.880         0       0    3866.85520          0          1   \n",
      "...   ...  ...     ...       ...     ...           ...        ...        ...   \n",
      "1333   50    0  30.970         3       0   10600.54830          0          1   \n",
      "1334   18    1  31.920         0       0    2205.98080          1          0   \n",
      "1335   18    1  36.850         0       0    1629.83350          0          0   \n",
      "1336   21    1  25.800         0       0    2007.94500          0          0   \n",
      "1337   61    1  29.070         0       1   29141.36030          0          1   \n",
      "\n",
      "      southeast  southwest  \n",
      "0             0          1  \n",
      "1             1          0  \n",
      "2             1          0  \n",
      "3             0          0  \n",
      "4             0          0  \n",
      "...         ...        ...  \n",
      "1333          0          0  \n",
      "1334          0          0  \n",
      "1335          1          0  \n",
      "1336          0          1  \n",
      "1337          0          0  \n",
      "\n",
      "[1338 rows x 10 columns]\n"
     ]
    }
   ],
   "source": [
    "df2 = pd.concat([df, df_encoded], axis=1).drop(\"region of USA\", axis=1)\n",
    "print(df2)"
   ]
  },
  {
   "cell_type": "code",
   "execution_count": 50,
   "id": "7ebe462f",
   "metadata": {
    "scrolled": true
   },
   "outputs": [
    {
     "data": {
      "text/plain": [
       "(1338, 10)"
      ]
     },
     "execution_count": 50,
     "metadata": {},
     "output_type": "execute_result"
    }
   ],
   "source": [
    "df2.shape "
   ]
  },
  {
   "cell_type": "markdown",
   "id": "ea9e8118",
   "metadata": {},
   "source": [
    "## Now lets get ready to perform Train_Test_Split."
   ]
  },
  {
   "cell_type": "code",
   "execution_count": 52,
   "id": "0cebee46",
   "metadata": {},
   "outputs": [],
   "source": [
    "from sklearn.model_selection import train_test_split\n",
    "new_data = df2\n",
    "X = new_data.drop('cost of care', axis=1)\n",
    "y = new_data['cost of care']\n",
    "X_train, X_test, y_train, y_test = train_test_split(X, y, test_size= .20, random_state=42)"
   ]
  },
  {
   "cell_type": "markdown",
   "id": "c9a8b66d",
   "metadata": {},
   "source": [
    "### Time for scaling."
   ]
  },
  {
   "cell_type": "code",
   "execution_count": 54,
   "id": "317a9a8d",
   "metadata": {},
   "outputs": [],
   "source": [
    "#Scaling\n",
    "from sklearn.preprocessing import StandardScaler\n",
    "\n",
    "scaler = StandardScaler()\n",
    "\n",
    "scaler.fit(X_train)\n",
    "\n",
    "X_train_scaled = scaler.transform(X_train)\n",
    "X_test_scaled = scaler.transform(X_test)"
   ]
  },
  {
   "cell_type": "code",
   "execution_count": 55,
   "id": "95b4d599",
   "metadata": {},
   "outputs": [],
   "source": [
    "from sklearn.model_selection import cross_val_score, KFold\n",
    "from sklearn.linear_model import LinearRegression\n",
    "from sklearn.metrics import mean_squared_error"
   ]
  },
  {
   "cell_type": "code",
   "execution_count": 57,
   "id": "d660a461",
   "metadata": {},
   "outputs": [],
   "source": [
    "# Select the LR model and KFolds parameters\n",
    "model = LinearRegression()\n",
    "kf = KFold(n_splits=5, shuffle=True, random_state=42)\n"
   ]
  },
  {
   "cell_type": "code",
   "execution_count": 58,
   "id": "90dee09e",
   "metadata": {
    "scrolled": true
   },
   "outputs": [
    {
     "name": "stdout",
     "output_type": "stream",
     "text": [
      "Mean Squared Error for each fold: [33596915.85136147, 37439620.22608732, 33451562.85551283, 41559312.10772008, 38946008.536686346]\n",
      "Average Mean Squared Error: 36998683.9154736\n"
     ]
    }
   ],
   "source": [
    "# Initialize an array to store the performance metric (e.g., mean squared error) for each fold\n",
    "mse_scores = []\n",
    "\n",
    "for train_index, test_index in kf.split(X):\n",
    "    X_train, X_test = X.iloc[train_index], X.iloc[test_index]\n",
    "    y_train, y_test = y.iloc[train_index], y.iloc[test_index]\n",
    "\n",
    "    model.fit(X_train, y_train)\n",
    "\n",
    "    predictions = model.predict(X_test)\n",
    "\n",
    "    mse = mean_squared_error(y_test, predictions)\n",
    "    mse_scores.append(mse)\n",
    "\n",
    "average_mse = np.mean(mse_scores)\n",
    "\n",
    "print(f'Mean Squared Error for each fold: {mse_scores}')\n",
    "print(f'Average Mean Squared Error: {average_mse}')\n"
   ]
  },
  {
   "cell_type": "code",
   "execution_count": 59,
   "id": "2f226659",
   "metadata": {},
   "outputs": [
    {
     "name": "stdout",
     "output_type": "stream",
     "text": [
      "Mean Squared Error for each fold: [33596915.85136147 37439620.22608732 33451562.85551283 41559312.10772008\n",
      " 38946008.53668635]\n",
      "Average Mean Squared Error: 36998683.9154736\n",
      "Cross-validated RMSE scores: [5796.28465928 6118.79238299 5783.73260581 6446.65123205 6240.67372458]\n",
      "Average RMSE: 6077.226920941315\n"
     ]
    }
   ],
   "source": [
    "# Perform cross-validation and evaluate the model\n",
    "mse_scores = -cross_val_score(model, X, y, cv=kf, scoring='neg_mean_squared_error')\n",
    "average_mse = np.mean(mse_scores)\n",
    "\n",
    "print(f'Mean Squared Error for each fold: {mse_scores}')\n",
    "print(f'Average Mean Squared Error: {average_mse}')\n",
    "\n",
    "# Convert negative mean squared errors to positive and take the average\n",
    "rmse_scores = np.sqrt(mse_scores)\n",
    "average_rmse = np.mean(rmse_scores)\n",
    "\n",
    "print(f'Cross-validated RMSE scores: {rmse_scores}')\n",
    "print(f'Average RMSE: {average_rmse}')"
   ]
  },
  {
   "cell_type": "markdown",
   "id": "1aaf9a3e",
   "metadata": {},
   "source": [
    "### The RMSF scores averaged around 6000 and will be used as a starting point to compare the models."
   ]
  },
  {
   "cell_type": "code",
   "execution_count": 61,
   "id": "eea68b58",
   "metadata": {},
   "outputs": [],
   "source": [
    "# Select the LR model and KFolds parameters\n",
    "from sklearn.neighbors import KNeighborsRegressor\n",
    "model = KNeighborsRegressor()\n",
    "kf = KFold(n_splits=5, shuffle=True, random_state=42)"
   ]
  },
  {
   "cell_type": "code",
   "execution_count": 62,
   "id": "e19a647d",
   "metadata": {},
   "outputs": [
    {
     "name": "stdout",
     "output_type": "stream",
     "text": [
      "Mean Squared Error for each fold: [129411489.93355128, 131999489.55989468, 141254675.287666, 108526241.98561902, 140517152.64027184]\n",
      "Average Mean Squared Error: 130341809.88140056\n"
     ]
    }
   ],
   "source": [
    "mse_scores = []\n",
    "\n",
    "for train_index, test_index in kf.split(X):\n",
    "    X_train, X_test = X.iloc[train_index], X.iloc[test_index]\n",
    "    y_train, y_test = y.iloc[train_index], y.iloc[test_index]\n",
    "\n",
    "    model.fit(X_train, y_train)\n",
    "\n",
    "    predictions = model.predict(X_test)\n",
    "\n",
    "    mse = mean_squared_error(y_test, predictions)\n",
    "    mse_scores.append(mse)\n",
    "\n",
    "average_mse = np.mean(mse_scores)\n",
    "\n",
    "print(f'Mean Squared Error for each fold: {mse_scores}')\n",
    "print(f'Average Mean Squared Error: {average_mse}')\n"
   ]
  },
  {
   "cell_type": "code",
   "execution_count": 64,
   "id": "0b2f4f4a",
   "metadata": {},
   "outputs": [
    {
     "name": "stdout",
     "output_type": "stream",
     "text": [
      "Mean Squared Error for each fold: [1.29411490e+08 1.31999490e+08 1.41254675e+08 1.08526242e+08\n",
      " 1.40517153e+08]\n",
      "Average Mean Squared Error: 130341809.88140056\n",
      "Cross-validated RMSE scores: [11375.91710297 11489.103079   11885.06101321 10417.59290746\n",
      " 11853.99310951]\n",
      "Average RMSE: 11404.333442428977\n"
     ]
    }
   ],
   "source": [
    "# Perform cross-validation and evaluate the model\n",
    "mse_scores = -cross_val_score(model, X, y, cv=kf, scoring='neg_mean_squared_error')\n",
    "average_mse = np.mean(mse_scores)\n",
    "\n",
    "print(f'Mean Squared Error for each fold: {mse_scores}')\n",
    "print(f'Average Mean Squared Error: {average_mse}')\n",
    "\n",
    "# Convert negative mean squared errors to positive and take the average\n",
    "rmse_scores = np.sqrt(mse_scores)\n",
    "average_rmse = np.mean(rmse_scores)\n",
    "\n",
    "print(f'Cross-validated RMSE scores: {rmse_scores}')\n",
    "print(f'Average RMSE: {average_rmse}')"
   ]
  },
  {
   "cell_type": "markdown",
   "id": "7e579102",
   "metadata": {},
   "source": [
    "### The KNN model performed worse than linear regression. We tried KNN since there were few features."
   ]
  },
  {
   "cell_type": "code",
   "execution_count": 71,
   "id": "83106659",
   "metadata": {},
   "outputs": [],
   "source": [
    "from sklearn.preprocessing import PolynomialFeatures\n",
    "from sklearn.pipeline import make_pipeline\n",
    "#model = PolynomialFeatures(degree=2, include_bias=False)\n",
    "#kf = KFold(n_splits=5, shuffle=True, random_state=42)"
   ]
  },
  {
   "cell_type": "code",
   "execution_count": 73,
   "id": "3cffaa8e",
   "metadata": {},
   "outputs": [
    {
     "name": "stdout",
     "output_type": "stream",
     "text": [
      "Test Set R-squared Score: 0.8665830903164844\n",
      "Cross-Validation R-squared Scores: [0.86658309 0.83828256 0.87476278 0.76557829 0.83141841]\n",
      "Mean Cross-Validation R-squared Score: 0.8353250254566685\n"
     ]
    }
   ],
   "source": [
    "# Create a polynomial regression model pipeline\n",
    "def polynomial_regression(degree):\n",
    "    return make_pipeline(PolynomialFeatures(degree=degree, include_bias=False), LinearRegression())\n",
    "\n",
    "# Specify the degree of the polynomial\n",
    "degree = 2\n",
    "\n",
    "model = polynomial_regression(degree)\n",
    "model.fit(X_train, y_train)\n",
    "\n",
    "test_score = model.score(X_test, y_test)\n",
    "print(f'Test Set R-squared Score: {test_score}')\n",
    "\n",
    "kf = KFold(n_splits=5, shuffle=True, random_state=42)\n",
    "cv_scores = cross_val_score(model, X, y, scoring='r2', cv=kf)\n",
    "print(f'Cross-Validation R-squared Scores: {cv_scores}')\n",
    "print(f'Mean Cross-Validation R-squared Score: {np.mean(cv_scores)}')"
   ]
  },
  {
   "cell_type": "markdown",
   "id": "093ff784",
   "metadata": {},
   "source": [
    "### These results are better than linear regression, lets look at L1 and L2 regression."
   ]
  },
  {
   "cell_type": "code",
   "execution_count": 99,
   "id": "8f532679",
   "metadata": {},
   "outputs": [
    {
     "name": "stdout",
     "output_type": "stream",
     "text": [
      "R-squared Score on Test Set: 0.8687218116781019\n"
     ]
    }
   ],
   "source": [
    "from sklearn.linear_model import Lasso, \n",
    "from sklearn.metrics import r2_score\n",
    "degree = 2\n",
    "alpha = 25.5  \n",
    "model = make_pipeline(PolynomialFeatures(degree=degree, include_bias=False), Lasso(alpha=alpha))\n",
    "\n",
    "model.fit(X_train, y_train)\n",
    "\n",
    "y_pred = model.predict(X_test)\n",
    "\n",
    "# Calculate R-squared on the test set\n",
    "r2 = r2_score(y_test, y_pred)\n",
    "print(f'R-squared Score on Test Set: {r2}')\n"
   ]
  },
  {
   "cell_type": "markdown",
   "id": "37fee9a6",
   "metadata": {},
   "source": [
    "### Higher score than just polynomial regression, that was 83%."
   ]
  },
  {
   "cell_type": "code",
   "execution_count": 90,
   "id": "69f538ef",
   "metadata": {},
   "outputs": [
    {
     "name": "stdout",
     "output_type": "stream",
     "text": [
      "R-squared Score on Test Set: 0.8665824411390384\n"
     ]
    }
   ],
   "source": [
    "from sklearn.linear_model import Ridge\n",
    "degree = 2\n",
    "alpha = 0.5  \n",
    "model = make_pipeline(PolynomialFeatures(degree=degree, include_bias=False), Ridge(alpha=alpha))\n",
    "\n",
    "model.fit(X_train, y_train)\n",
    "\n",
    "y_pred = model.predict(X_test)\n",
    "\n",
    "r2 = r2_score(y_test, y_pred)\n",
    "print(f'R-squared Score on Test Set: {r2}')"
   ]
  },
  {
   "cell_type": "markdown",
   "id": "40375326",
   "metadata": {},
   "source": [
    "### Slightly lower than L1 but really close, fine tuning each of these regularization models got these two models very close."
   ]
  },
  {
   "cell_type": "markdown",
   "id": "e83e688d",
   "metadata": {},
   "source": [
    "## In Conclusion:\n",
    "\n",
    "### The costs of care averaged out cost about the same across all regions in this model, although we don't know what the condition they were treated for was or the therapy used. Our Lasso model gave the best performance for prediction at 87%. We could build an ANN in the future, which we do, and get a score of 99.8%.  "
   ]
  }
 ],
 "metadata": {
  "kernelspec": {
   "display_name": "Python 3 (ipykernel)",
   "language": "python",
   "name": "python3"
  },
  "language_info": {
   "codemirror_mode": {
    "name": "ipython",
    "version": 3
   },
   "file_extension": ".py",
   "mimetype": "text/x-python",
   "name": "python",
   "nbconvert_exporter": "python",
   "pygments_lexer": "ipython3",
   "version": "3.8.11"
  }
 },
 "nbformat": 4,
 "nbformat_minor": 5
}
